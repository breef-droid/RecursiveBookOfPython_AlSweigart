{
  "nbformat": 4,
  "nbformat_minor": 0,
  "metadata": {
    "colab": {
      "provenance": [],
      "authorship_tag": "ABX9TyMmKhwJu9F3h4xrcdh5ZD4g",
      "include_colab_link": true
    },
    "kernelspec": {
      "name": "python3",
      "display_name": "Python 3"
    },
    "language_info": {
      "name": "python"
    }
  },
  "cells": [
    {
      "cell_type": "markdown",
      "metadata": {
        "id": "view-in-github",
        "colab_type": "text"
      },
      "source": [
        "<a href=\"https://colab.research.google.com/github/breef-droid/RecursiveBookOfPython_AlSweigart/blob/main/RecursiveBookOfPython_AlSweigart.ipynb\" target=\"_parent\"><img src=\"https://colab.research.google.com/assets/colab-badge.svg\" alt=\"Open In Colab\"/></a>"
      ]
    },
    {
      "cell_type": "markdown",
      "source": [
        "# Chapter 1: What is recursion?\n"
      ],
      "metadata": {
        "id": "uzT9kKRkiozb"
      }
    },
    {
      "cell_type": "markdown",
      "source": [
        "## Definition of recursion\n",
        "Recursion has an intimidating reputation. It’s considered hard to understand, but at its core, it depends on only two things: function calls and stack data structures.<br>\n",
        "\n",
        "![](https://inventwithpython.com/recursion/images/000086.webp)<br>\n",
        "A recursive thing is something whose definition includes itself, it has a self-referential definition.<br>\n",
        "In a programming context, a recursive function is a function that calls itself. Before we look at recursive functions, we need to understand how regular functions work."
      ],
      "metadata": {
        "id": "a_ymolbtma67"
      }
    },
    {
      "cell_type": "markdown",
      "source": [
        "## What are functions?\n",
        "Functions are mini-programs inside your program. If we need to run identical instructions at three different places in a program, instead of copying and pasting the source code three times, we can write the code in a function once and call the function three times.<br>\n",
        "The beneficial result being shorter and more readable code. The program is also easier to change.<br>\n",
        "All programming languages implement four main features in their functions:\n",
        "* Functions have code that is run when the function is called\n",
        "* *Arguments* are passed into the function when it is called (IE the input to the function, functions can have zero or more arguments)\n",
        "* Functions return a *return value*, the output of the function\n",
        "* The program remembers which line of code called the function and returns to it when the function finishes its execution.\n"
      ],
      "metadata": {
        "id": "Qm1eOZIims2S"
      }
    },
    {
      "cell_type": "code",
      "source": [
        " def a():\n",
        "     print('a() was called.')\n",
        "     b()\n",
        "     print('a() is returning.')\n",
        "\n",
        "def b():\n",
        "    print('b() was called.')\n",
        "    c()\n",
        "    print('b() is returning.')\n",
        "\n",
        "def c():\n",
        "    print('c() was called.')\n",
        "    print('c() is returning.')\n",
        "\n",
        "a()"
      ],
      "metadata": {
        "id": "CyXAa837iufR"
      },
      "execution_count": null,
      "outputs": []
    },
    {
      "cell_type": "code",
      "source": [],
      "metadata": {
        "id": "2b79I2YSpMkb"
      },
      "execution_count": null,
      "outputs": []
    }
  ]
}