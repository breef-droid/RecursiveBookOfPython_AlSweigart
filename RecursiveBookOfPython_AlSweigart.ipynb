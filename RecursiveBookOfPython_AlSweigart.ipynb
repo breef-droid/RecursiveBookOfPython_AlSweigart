{
  "nbformat": 4,
  "nbformat_minor": 0,
  "metadata": {
    "colab": {
      "provenance": [],
      "authorship_tag": "ABX9TyP9eyG4GFmMctlMhKZvrH7c",
      "include_colab_link": true
    },
    "kernelspec": {
      "name": "python3",
      "display_name": "Python 3"
    },
    "language_info": {
      "name": "python"
    }
  },
  "cells": [
    {
      "cell_type": "markdown",
      "metadata": {
        "id": "view-in-github",
        "colab_type": "text"
      },
      "source": [
        "<a href=\"https://colab.research.google.com/github/breef-droid/RecursiveBookOfPython_AlSweigart/blob/main/RecursiveBookOfPython_AlSweigart.ipynb\" target=\"_parent\"><img src=\"https://colab.research.google.com/assets/colab-badge.svg\" alt=\"Open In Colab\"/></a>"
      ]
    },
    {
      "cell_type": "markdown",
      "source": [
        "# Chapter 1: What is recursion?\n",
        "Recursion has an intimidating reputation. It’s considered hard to understand, but at its core, it depends on only two things: function calls and stack data structures.<br>\n",
        "A recursive thing is something whose definition includes itself, it has a self-referential definition."
      ],
      "metadata": {
        "id": "uzT9kKRkiozb"
      }
    },
    {
      "cell_type": "code",
      "source": [],
      "metadata": {
        "id": "CyXAa837iufR"
      },
      "execution_count": null,
      "outputs": []
    }
  ]
}