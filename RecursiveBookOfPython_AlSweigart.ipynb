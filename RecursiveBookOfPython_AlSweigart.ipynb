{
  "nbformat": 4,
  "nbformat_minor": 0,
  "metadata": {
    "colab": {
      "provenance": [],
      "authorship_tag": "ABX9TyOb88BBzeI7WeVL9y9icE1U",
      "include_colab_link": true
    },
    "kernelspec": {
      "name": "python3",
      "display_name": "Python 3"
    },
    "language_info": {
      "name": "python"
    }
  },
  "cells": [
    {
      "cell_type": "markdown",
      "metadata": {
        "id": "view-in-github",
        "colab_type": "text"
      },
      "source": [
        "<a href=\"https://colab.research.google.com/github/breef-droid/RecursiveBookOfPython_AlSweigart/blob/main/RecursiveBookOfPython_AlSweigart.ipynb\" target=\"_parent\"><img src=\"https://colab.research.google.com/assets/colab-badge.svg\" alt=\"Open In Colab\"/></a>"
      ]
    },
    {
      "cell_type": "markdown",
      "source": [
        "# Chapter 1: What is recursion?\n"
      ],
      "metadata": {
        "id": "uzT9kKRkiozb"
      }
    },
    {
      "cell_type": "markdown",
      "source": [
        "## Definition of recursion\n",
        "Recursion has an intimidating reputation. It’s considered hard to understand, but at its core, it depends on only two things: function calls and stack data structures.<br>\n",
        "\n",
        "![](https://inventwithpython.com/recursion/images/000086.webp)<br>\n",
        "A recursive thing is something whose definition includes itself, it has a self-referential definition.<br>\n",
        "In a programming context, a recursive function is a function that calls itself. Before we look at recursive functions, we need to understand how regular functions work."
      ],
      "metadata": {
        "id": "a_ymolbtma67"
      }
    },
    {
      "cell_type": "markdown",
      "source": [
        "## What are functions?\n",
        "Functions are mini-programs inside your program. If we need to run identical instructions at three different places in a program, instead of copying and pasting the source code three times, we can write the code in a function once and call the function three times.<br>\n",
        "The beneficial result being shorter and more readable code. The program is also easier to change.<br>\n",
        "All programming languages implement four main features in their functions:\n",
        "* Functions have code that is run when the function is called\n",
        "* *Arguments* are passed into the function when it is called (IE the input to the function, functions can have zero or more arguments)\n",
        "* Functions return a *return value*, the output of the function\n",
        "* The program remembers which line of code called the function and returns to it when the function finishes its execution.\n"
      ],
      "metadata": {
        "id": "Qm1eOZIims2S"
      }
    },
    {
      "cell_type": "code",
      "source": [
        " def a():\n",
        "     print('a() was called.')\n",
        "     b()\n",
        "     print('a() is returning.')\n",
        "\n",
        "def b():\n",
        "    print('b() was called.')\n",
        "    c()\n",
        "    print('b() is returning.')\n",
        "\n",
        "def c():\n",
        "    print('c() was called.')\n",
        "    print('c() is returning.')\n",
        "\n",
        "a()"
      ],
      "metadata": {
        "id": "CyXAa837iufR",
        "colab": {
          "base_uri": "https://localhost:8080/"
        },
        "outputId": "43803cc9-a19a-4bf5-dfba-9db1f0880802"
      },
      "execution_count": 1,
      "outputs": [
        {
          "output_type": "stream",
          "name": "stdout",
          "text": [
            "a() was called.\n",
            "b() was called.\n",
            "c() was called.\n",
            "c() is returning.\n",
            "b() is returning.\n",
            "a() is returning.\n"
          ]
        }
      ]
    },
    {
      "cell_type": "markdown",
      "source": [
        "The output shows the start of functions a(), b() and c(). Each time a function returns, it remembers which line of code originally called it. The program remembers which function was called by using a call stack."
      ],
      "metadata": {
        "id": "vUJnKYdmqvhb"
      }
    },
    {
      "cell_type": "markdown",
      "source": [
        "## What are Stacks?\n",
        "A stack is one of the simplest data structures in computer science. It stores multiple values like a list does - but it limits our use to only adding/removing values from the top of the stack, with the top of the stack being the last item of the list (if creating a stack from a list).<br>\n",
        "Adding values is called pushing whereas removing values is called popping items off the stack.<br>\n",
        "The below if an implementation of the following stack in a deck of cards:<br>\n",
        "![](https://inventwithpython.com/recursion/images/000007.webp)"
      ],
      "metadata": {
        "id": "ZRbJItlKrNEy"
      }
    },
    {
      "cell_type": "code",
      "source": [
        "cardStack = []\n",
        "cardStack.append('5 of diamonds')\n",
        "print(','.join(cardStack))\n",
        "cardStack.append('3 of clubs')\n",
        "print(\",\".join(cardStack))\n",
        "cardStack.append('ace of hearts')\n",
        "print(\",\".join(cardStack))\n",
        "cardStack.pop()\n",
        "print(\",\".join(cardStack))"
      ],
      "metadata": {
        "id": "2b79I2YSpMkb",
        "colab": {
          "base_uri": "https://localhost:8080/"
        },
        "outputId": "26278e0e-ca6c-4d80-bf89-94c275fcd123"
      },
      "execution_count": 3,
      "outputs": [
        {
          "output_type": "stream",
          "name": "stdout",
          "text": [
            "5 of diamonds\n",
            "5 of diamonds,3 of clubs\n",
            "5 of diamonds,3 of clubs,ace of hearts\n",
            "5 of diamonds,3 of clubs\n"
          ]
        }
      ]
    },
    {
      "cell_type": "markdown",
      "source": [
        "Stacks are a LIFO (last in first out) data structure. This is similar to our browsers back button. Whereby the browser is always displaying the web page at the top of the history's stack. Clicking a link pushes a new web page onto the stack, clicking the back button pops the current page off the stack and displays the last visited site."
      ],
      "metadata": {
        "id": "eJ5cNBsBtffB"
      }
    },
    {
      "cell_type": "code",
      "source": [],
      "metadata": {
        "id": "0_My3ffts_x8"
      },
      "execution_count": null,
      "outputs": []
    }
  ]
}