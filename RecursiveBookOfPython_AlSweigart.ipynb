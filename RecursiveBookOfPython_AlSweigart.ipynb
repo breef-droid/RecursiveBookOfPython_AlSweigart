{
  "nbformat": 4,
  "nbformat_minor": 0,
  "metadata": {
    "colab": {
      "provenance": [],
      "toc_visible": true,
      "include_colab_link": true
    },
    "kernelspec": {
      "name": "python3",
      "display_name": "Python 3"
    },
    "language_info": {
      "name": "python"
    }
  },
  "cells": [
    {
      "cell_type": "markdown",
      "metadata": {
        "id": "view-in-github",
        "colab_type": "text"
      },
      "source": [
        "<a href=\"https://colab.research.google.com/github/breef-droid/RecursiveBookOfPython_AlSweigart/blob/main/RecursiveBookOfPython_AlSweigart.ipynb\" target=\"_parent\"><img src=\"https://colab.research.google.com/assets/colab-badge.svg\" alt=\"Open In Colab\"/></a>"
      ]
    },
    {
      "cell_type": "markdown",
      "source": [
        "# Chapter 1: What is recursion?\n"
      ],
      "metadata": {
        "id": "uzT9kKRkiozb"
      }
    },
    {
      "cell_type": "markdown",
      "source": [
        "## Definition of recursion\n",
        "Recursion has an intimidating reputation. It’s considered hard to understand, but at its core, it depends on only two things: function calls and stack data structures.<br>\n",
        "\n",
        "![](https://inventwithpython.com/recursion/images/000086.webp)<br>\n",
        "A recursive thing is something whose definition includes itself, it has a self-referential definition.<br>\n",
        "In a programming context, a recursive function is a function that calls itself. Before we look at recursive functions, we need to understand how regular functions work."
      ],
      "metadata": {
        "id": "a_ymolbtma67"
      }
    },
    {
      "cell_type": "markdown",
      "source": [
        "## What are functions?\n",
        "Functions are mini-programs inside your program. If we need to run identical instructions at three different places in a program, instead of copying and pasting the source code three times, we can write the code in a function once and call the function three times.<br>\n",
        "The beneficial result being shorter and more readable code. The program is also easier to change.<br>\n",
        "All programming languages implement four main features in their functions:\n",
        "* Functions have code that is run when the function is called\n",
        "* *Arguments* are passed into the function when it is called (IE the input to the function, functions can have zero or more arguments)\n",
        "* Functions return a *return value*, the output of the function\n",
        "* The program remembers which line of code called the function and returns to it when the function finishes its execution.\n"
      ],
      "metadata": {
        "id": "Qm1eOZIims2S"
      }
    },
    {
      "cell_type": "code",
      "source": [
        " def a():\n",
        "     print('a() was called.')\n",
        "     b()\n",
        "     print('a() is returning.')\n",
        "\n",
        "def b():\n",
        "    print('b() was called.')\n",
        "    c()\n",
        "    print('b() is returning.')\n",
        "\n",
        "def c():\n",
        "    print('c() was called.')\n",
        "    print('c() is returning.')\n",
        "\n",
        "a()"
      ],
      "metadata": {
        "id": "CyXAa837iufR",
        "colab": {
          "base_uri": "https://localhost:8080/"
        },
        "outputId": "43803cc9-a19a-4bf5-dfba-9db1f0880802"
      },
      "execution_count": null,
      "outputs": [
        {
          "output_type": "stream",
          "name": "stdout",
          "text": [
            "a() was called.\n",
            "b() was called.\n",
            "c() was called.\n",
            "c() is returning.\n",
            "b() is returning.\n",
            "a() is returning.\n"
          ]
        }
      ]
    },
    {
      "cell_type": "markdown",
      "source": [
        "The output shows the start of functions a(), b() and c(). Each time a function returns, it remembers which line of code originally called it. The program remembers which function was called by using a call stack."
      ],
      "metadata": {
        "id": "vUJnKYdmqvhb"
      }
    },
    {
      "cell_type": "markdown",
      "source": [
        "## What are Stacks?\n",
        "A stack is one of the simplest data structures in computer science. It stores multiple values like a list does - but it limits our use to only adding/removing values from the top of the stack, with the top of the stack being the last item of the list (if creating a stack from a list).<br>\n",
        "Adding values is called pushing whereas removing values is called popping items off the stack.<br>\n",
        "The below if an implementation of the following stack in a deck of cards:<br>\n",
        "![](https://inventwithpython.com/recursion/images/000007.webp)"
      ],
      "metadata": {
        "id": "ZRbJItlKrNEy"
      }
    },
    {
      "cell_type": "code",
      "source": [
        "cardStack = []\n",
        "cardStack.append('5 of diamonds')\n",
        "print(','.join(cardStack))\n",
        "cardStack.append('3 of clubs')\n",
        "print(\",\".join(cardStack))\n",
        "cardStack.append('ace of hearts')\n",
        "print(\",\".join(cardStack))\n",
        "cardStack.pop()\n",
        "print(\",\".join(cardStack))"
      ],
      "metadata": {
        "id": "2b79I2YSpMkb",
        "colab": {
          "base_uri": "https://localhost:8080/"
        },
        "outputId": "26278e0e-ca6c-4d80-bf89-94c275fcd123"
      },
      "execution_count": null,
      "outputs": [
        {
          "output_type": "stream",
          "name": "stdout",
          "text": [
            "5 of diamonds\n",
            "5 of diamonds,3 of clubs\n",
            "5 of diamonds,3 of clubs,ace of hearts\n",
            "5 of diamonds,3 of clubs\n"
          ]
        }
      ]
    },
    {
      "cell_type": "markdown",
      "source": [
        "Stacks are a LIFO (last in first out) data structure. This is similar to our browsers back button. Whereby the browser is always displaying the web page at the top of the history's stack. Clicking a link pushes a new web page onto the stack, clicking the back button pops the current page off the stack and displays the last visited site."
      ],
      "metadata": {
        "id": "eJ5cNBsBtffB"
      }
    },
    {
      "cell_type": "markdown",
      "source": [
        "## What is the call stack?\n",
        "The program's call stack is a stack of frame objects. Frame objects contain information about a single function call (including which line of code called the function) so the execution can move back there when the function returns.<br>\n",
        "Frames are created and pushed onto the stack when a function is called. When the function returns the call stack will have one less frame on the stack. The programming language will handle this automatically, but in general they contain the following:<br>\n",
        "* The return address (or spot in the program where the execution should move to when the function returns.\n",
        "* The arguments passed to the function call"
      ],
      "metadata": {
        "id": "Ziuf0A2vdZYt"
      }
    },
    {
      "cell_type": "code",
      "source": [
        "def a():\n",
        "    frame = \"Ant\"\n",
        "    print(f\"Frame1 called is {frame}\")\n",
        "    b()\n",
        "    print(f\"Frame5 called is {frame}\")\n",
        "\n",
        "def b():\n",
        "    frame = \"Bob\"\n",
        "    print(f\"Frame2 called is {frame}\")\n",
        "    c()\n",
        "    print(f\"Frame4 called is {frame}\")\n",
        "\n",
        "def c():\n",
        "    frame = \"Coyote\"\n",
        "    print(f\"Frame3 called is {frame}\")\n",
        "\n",
        "a()"
      ],
      "metadata": {
        "id": "S_rKPeR5gmEu",
        "outputId": "dce25008-3fca-4654-dba1-05bf0b41911d",
        "colab": {
          "base_uri": "https://localhost:8080/"
        }
      },
      "execution_count": null,
      "outputs": [
        {
          "output_type": "stream",
          "name": "stdout",
          "text": [
            "Frame1 called is Ant\n",
            "Frame2 called is Bob\n",
            "Frame3 called is Coyote\n",
            "Frame4 called is Bob\n",
            "Frame5 called is Ant\n"
          ]
        }
      ]
    },
    {
      "cell_type": "markdown",
      "source": [
        "The below show the state of the call stack as each function returns. Here the local variables are always separate with distinct values, even if they have the same local variable name as in other functions (with spam replaced with 'frame' as per the code above).<br>\n",
        "![](https://inventwithpython.com/recursion/images/000093.webp)"
      ],
      "metadata": {
        "id": "erpNRpMxhm7Y"
      }
    },
    {
      "cell_type": "markdown",
      "source": [
        "The separate local variable can have the same variable name and different values as they are kept in separate frame objects. When a local variable is used in the source code, the variable with that name in the topmost frame is used to return the individual values.<br>\n",
        "Every running program has a call stack and multithreaded programs have one call stack for each thread. The call stack is an object created and handled automatically in the background.<br>\n",
        "The fact that the call stack isn't visible in the source code is the reason recursion is confusing as it relies on something the programmer can't see."
      ],
      "metadata": {
        "id": "XI3CS7wHiFgI"
      }
    },
    {
      "cell_type": "markdown",
      "source": [
        "## What are recursive functions and stack overflows?\n",
        "A recursive function is a function that calls itself."
      ],
      "metadata": {
        "id": "GCo2Lu2Ai4cZ"
      }
    },
    {
      "cell_type": "code",
      "source": [
        "def shortest_recursive():\n",
        "    shortest_recursive()\n",
        "\n",
        "shortest_recursive()"
      ],
      "metadata": {
        "id": "3vVP2NlwhKqO",
        "outputId": "4fa0fbb4-4453-467a-9dac-e18de326721d",
        "colab": {
          "base_uri": "https://localhost:8080/",
          "height": 363
        }
      },
      "execution_count": null,
      "outputs": [
        {
          "output_type": "error",
          "ename": "RecursionError",
          "evalue": "ignored",
          "traceback": [
            "\u001b[0;31m---------------------------------------------------------------------------\u001b[0m",
            "\u001b[0;31mRecursionError\u001b[0m                            Traceback (most recent call last)",
            "\u001b[0;32m<ipython-input-3-b37d7ea3524d>\u001b[0m in \u001b[0;36m<module>\u001b[0;34m\u001b[0m\n\u001b[1;32m      2\u001b[0m     \u001b[0mshortest_recursive\u001b[0m\u001b[0;34m(\u001b[0m\u001b[0;34m)\u001b[0m\u001b[0;34m\u001b[0m\u001b[0;34m\u001b[0m\u001b[0m\n\u001b[1;32m      3\u001b[0m \u001b[0;34m\u001b[0m\u001b[0m\n\u001b[0;32m----> 4\u001b[0;31m \u001b[0mshortest_recursive\u001b[0m\u001b[0;34m(\u001b[0m\u001b[0;34m)\u001b[0m\u001b[0;34m\u001b[0m\u001b[0;34m\u001b[0m\u001b[0m\n\u001b[0m",
            "\u001b[0;32m<ipython-input-3-b37d7ea3524d>\u001b[0m in \u001b[0;36mshortest_recursive\u001b[0;34m()\u001b[0m\n\u001b[1;32m      1\u001b[0m \u001b[0;32mdef\u001b[0m \u001b[0mshortest_recursive\u001b[0m\u001b[0;34m(\u001b[0m\u001b[0;34m)\u001b[0m\u001b[0;34m:\u001b[0m\u001b[0;34m\u001b[0m\u001b[0;34m\u001b[0m\u001b[0m\n\u001b[0;32m----> 2\u001b[0;31m     \u001b[0mshortest_recursive\u001b[0m\u001b[0;34m(\u001b[0m\u001b[0;34m)\u001b[0m\u001b[0;34m\u001b[0m\u001b[0;34m\u001b[0m\u001b[0m\n\u001b[0m\u001b[1;32m      3\u001b[0m \u001b[0;34m\u001b[0m\u001b[0m\n\u001b[1;32m      4\u001b[0m \u001b[0mshortest_recursive\u001b[0m\u001b[0;34m(\u001b[0m\u001b[0;34m)\u001b[0m\u001b[0;34m\u001b[0m\u001b[0;34m\u001b[0m\u001b[0m\n",
            "... last 1 frames repeated, from the frame below ...\n",
            "\u001b[0;32m<ipython-input-3-b37d7ea3524d>\u001b[0m in \u001b[0;36mshortest_recursive\u001b[0;34m()\u001b[0m\n\u001b[1;32m      1\u001b[0m \u001b[0;32mdef\u001b[0m \u001b[0mshortest_recursive\u001b[0m\u001b[0;34m(\u001b[0m\u001b[0;34m)\u001b[0m\u001b[0;34m:\u001b[0m\u001b[0;34m\u001b[0m\u001b[0;34m\u001b[0m\u001b[0m\n\u001b[0;32m----> 2\u001b[0;31m     \u001b[0mshortest_recursive\u001b[0m\u001b[0;34m(\u001b[0m\u001b[0;34m)\u001b[0m\u001b[0;34m\u001b[0m\u001b[0;34m\u001b[0m\u001b[0m\n\u001b[0m\u001b[1;32m      3\u001b[0m \u001b[0;34m\u001b[0m\u001b[0m\n\u001b[1;32m      4\u001b[0m \u001b[0mshortest_recursive\u001b[0m\u001b[0;34m(\u001b[0m\u001b[0;34m)\u001b[0m\u001b[0;34m\u001b[0m\u001b[0;34m\u001b[0m\u001b[0m\n",
            "\u001b[0;31mRecursionError\u001b[0m: maximum recursion depth exceeded"
          ]
        }
      ]
    },
    {
      "cell_type": "markdown",
      "source": [
        "Since the call stack created in the shortest_recursive() function is infinite and uses the computer's finite memory, the program crashes and displays the `RecursionError: maximum recursion depth exceeded` error.<br>\n",
        "This type of error is called a stack overflow. The constant function calls with no returns grows the call stack until all the computer's memory allocated for the call stack is used up. To prevent this from actually occuring the Python interpreter crashes the program after a certain limit of function calls that don't return a value is reached.<br>\n",
        "This limit is called the maximum recursion depth or maximum call stack size. For python specifically this is set to 1,000 function calls (for JavaScript it depends on the browser but is generally 10,000.<br>\n",
        "Think of a stack overflow as happening when the call stack gets \"too high\" (IE it consumes too much memory).<br>\n",
        "![](https://inventwithpython.com/recursion/images/000048.webp)<br>\n",
        "Stack overflows can be prevented by having something called a base case..."
      ],
      "metadata": {
        "id": "vp8zwAAZjPq4"
      }
    },
    {
      "cell_type": "markdown",
      "source": [
        "## Base Cases and Recursive Cases:\n",
        "The recursive fuction shortest_recursive() calls itself but never returns. To avoid a crash there needs to be a set of circustances where the function stops calling itself and instead just returns. This is known as the base case. By contrast, a case where the function recursively calls itself is called a recursive case.<br>\n",
        "All recursive functions require at least one base case and at least one recursive case. Without a base case, the function will never stop making recursive calls and will cause a stack overflow. When we start writing recursive functions, a good first step is to figure out what the base case and recursive case should be."
      ],
      "metadata": {
        "id": "9L-km9kIkzAV"
      }
    },
    {
      "cell_type": "code",
      "source": [
        "def shortestWithBaseCase(makeRecursiveCall= False):\n",
        "    print(f\"shortestWIthBaseCase({makeRecursiveCall}) called.\" )\n",
        "    if not makeRecursiveCall:\n",
        "        # This is the Base Case\n",
        "        print(f\"Calling shortestWithBaseCase({makeRecursiveCall}):\")   \n",
        "        print(\"Returning from base case\")\n",
        "        print()\n",
        "        return\n",
        "    else:\n",
        "        # This is the recursive case\n",
        "        print(f\"Calling shortestWithBaseCase({makeRecursiveCall}):\")   \n",
        "        shortestWithBaseCase(False)\n",
        "        print(f\"Calling shortestWithBaseCase({makeRecursiveCall}):\")   \n",
        "        print(\"Returning from recursive case\")\n",
        "        return\n",
        "\n",
        "# shortestWithBaseCase(False)\n",
        "shortestWithBaseCase(True)"
      ],
      "metadata": {
        "id": "QyUNVFGpjIJR",
        "outputId": "d818b5b4-b53f-4227-b798-f2fdf3968427",
        "colab": {
          "base_uri": "https://localhost:8080/"
        }
      },
      "execution_count": null,
      "outputs": [
        {
          "output_type": "stream",
          "name": "stdout",
          "text": [
            "shortestWIthBaseCase(True) called.\n",
            "Calling shortestWithBaseCase(True):\n",
            "shortestWIthBaseCase(False) called.\n",
            "Calling shortestWithBaseCase(False):\n",
            "Returning from base case\n",
            "\n",
            "Calling shortestWithBaseCase(True):\n",
            "Returning from recursive case\n"
          ]
        }
      ]
    },
    {
      "cell_type": "markdown",
      "source": [
        "## Code before and after the recursive call:\n",
        "The code in a recursive case can be split into two parts: the code before the recursive call and the code after the recursive call.<br>\n",
        "The important thing to note is that reaching the base case doesn't necessarily mean reaching the end of the recursive algorithm. It only means the base case won't continue to make recursive calls (whereas the recursive case will)."
      ],
      "metadata": {
        "id": "8xGWyyovrVOS"
      }
    },
    {
      "cell_type": "code",
      "source": [
        "def countDownAndUp(number):\n",
        "    print(f\"{number} pushed to top of stack\")\n",
        "    if number == 0:\n",
        "        # Base case\n",
        "        print(f\"Reached the base case... {number} popped off stack\")\n",
        "        return\n",
        "    else:\n",
        "        # Recursive case\n",
        "        countDownAndUp(number - 1)\n",
        "        print(f\"{number} popped off call stack\")\n",
        "        return\n",
        "\n",
        "countDownAndUp(5)"
      ],
      "metadata": {
        "id": "bAmYihkpnXqy",
        "outputId": "2231916b-808e-4585-864c-3c931bc8f7c2",
        "colab": {
          "base_uri": "https://localhost:8080/"
        }
      },
      "execution_count": null,
      "outputs": [
        {
          "output_type": "stream",
          "name": "stdout",
          "text": [
            "5 pushed to top of stack\n",
            "4 pushed to top of stack\n",
            "3 pushed to top of stack\n",
            "2 pushed to top of stack\n",
            "1 pushed to top of stack\n",
            "0 pushed to top of stack\n",
            "Reached the base case... 0 popped off stack\n",
            "1 popped off call stack\n",
            "2 popped off call stack\n",
            "3 popped off call stack\n",
            "4 popped off call stack\n",
            "5 popped off call stack\n"
          ]
        }
      ]
    },
    {
      "cell_type": "markdown",
      "source": [
        "Every time a function is called, a new frame is created and pushed onto the call stack. This frame is where all the local variable are stored. So there is a seperate variable holding a separate value on the call stack. Even though it looks like there is only one `number` variable, because it is a local variable (to the function) there is a different value for each variable for each function call.<br>\n",
        "The pattern of making consecutive recursive function calls and then returning from the recursive function call is what causes the countdown numbers to appear. Once the base case is reached (`number == 0`) the base case is reached and the function returns, the frame is popped off the stack, however the frame underneath has its own function to return.<br>\n",
        "![](https://inventwithpython.com/recursion/images/000057.webp)<br>\n",
        "The code doesn't stop immediately when the base case is reached (as there is still frames on the stack) any code after the base case will still have to run."
      ],
      "metadata": {
        "id": "LBf-4fpptY7N"
      }
    },
    {
      "cell_type": "markdown",
      "source": [
        "## Summary\n",
        "Recursion is confusion but it is built on the simple idea that a function can call itself. Every time a function call is made, a new frame object (with information related to the call) is added to the call stack. The call stack can only be altered by having data added or removed from its top.<br>\n",
        "The call stack is handled by the program implicitly, calling a function pushed a frame object to the call stack and returning from a function pops a frame object from the call stack.<br>\n",
        "Recursive functions have recursive and base cases. If there is no base case, the execution causes a stack overflow (the stack falls over and the program crashes).<br>\n",
        "Recursion is a useful technique but it invariably makes the code more complicated than it should be.<br>\n",
        "You can install the ShowCallStack module for Python. This module adds a showcallstack() function that you can place anywhere in your code to see the state of the call stack at that particular point in your program. You can download the module and find instructions for it at https://pypi.org/project/ShowCallStack.<br>"
      ],
      "metadata": {
        "id": "3ymFWYGaurqF"
      }
    },
    {
      "cell_type": "markdown",
      "source": [
        "# Chapter 2: Recursion vs Iteration\n",
        "## Iterative Factorial Algorithm\n",
        "Calculating factorials iteratively is fairly straightforward: multiply the integers 1 up to and including n in a loop. Iterative algorithms always use a loop. A factorialByIteration.py program looks like this:"
      ],
      "metadata": {
        "id": "FdA-188_XvwG"
      }
    },
    {
      "cell_type": "code",
      "source": [
        "def factorial(number):\n",
        "    product = 1\n",
        "    for i in range(1, number + 1):\n",
        "        product = product * i\n",
        "    return product\n",
        "print(factorial(5))"
      ],
      "metadata": {
        "id": "Z6_QgF_JsMFH"
      },
      "execution_count": null,
      "outputs": []
    },
    {
      "cell_type": "markdown",
      "source": [
        "## Recursive Factorial Algorithm\n",
        "Notice that the factorial of 4 is 4 × 3 × 2 × 1, and the factorial of 5 is 5 × 4 × 3 × 2 × 1. So you could say that 5! = 5 × 4!. This is recursive because the definition of the factorial of 5 (or any number n) includes the definition of the factorial of 4 (the number n – 1). In turn, 4! = 4 × 3!, and so on, until you must calculate 1!, the base case, which is simply 1."
      ],
      "metadata": {
        "id": "abrS1zGnNeiz"
      }
    },
    {
      "cell_type": "code",
      "source": [
        "def factorial(number):\n",
        "    if number == 1:\n",
        "        # BASE CASE\n",
        "        return 1\n",
        "    else:\n",
        "        # RECURSIVE CASE\n",
        "      return number * factorial(number - 1)\n",
        "print(factorial(5))"
      ],
      "metadata": {
        "id": "0Nto1OEYX9NW",
        "outputId": "be5e0f5d-41b6-4f61-c843-1473185acbe3",
        "colab": {
          "base_uri": "https://localhost:8080/"
        }
      },
      "execution_count": 2,
      "outputs": [
        {
          "output_type": "stream",
          "name": "stdout",
          "text": [
            "120\n"
          ]
        }
      ]
    },
    {
      "cell_type": "markdown",
      "source": [
        "## Why the recursive factorial algorithm is terrible:\n",
        "The recursive implementation for calculating factorials has a critical weakness. Calculating the factorial of 5 requires five recursive function calls. This means five frame objects are placed on the call stack before the base case is reached. This doesn’t scale.\n",
        "\n",
        "If you want to calculate the factorial of 1,001, the recursive factorial() function must make 1,001 recursive function calls. However, your program is likely to cause a stack overflow before it can finish, because making so many function calls without returning would exceed the maximum call stack size of the interpreter. This is terrible; you would never want to use a recursive factorial function in real-world code.<br>\n",
        "![](https://inventwithpython.com/recursion/images/000092.webp)"
      ],
      "metadata": {
        "id": "YUzjGS5vNpoX"
      }
    },
    {
      "cell_type": "markdown",
      "source": [
        "## Iterative Fibonacci Algorithm"
      ],
      "metadata": {
        "id": "HJqkSBnBN5Zm"
      }
    },
    {
      "cell_type": "code",
      "source": [
        "def fibonacci(nthNumber):\n",
        "    a, b = 1, 1\n",
        "    print('a = %s, b = %s' % (a, b))\n",
        "    for i in range(1, nthNumber):\n",
        "        a, b = b, a + b # Get the next Fibonacci number.\n",
        "        print('a = %s, b = %s' % (a, b))\n",
        "    return a\n",
        "\n",
        "print(fibonacci(10))"
      ],
      "metadata": {
        "id": "MxxPVH2TNk4P",
        "outputId": "919403e7-3459-4f20-c3b4-d4642b7145c4",
        "colab": {
          "base_uri": "https://localhost:8080/"
        }
      },
      "execution_count": 3,
      "outputs": [
        {
          "output_type": "stream",
          "name": "stdout",
          "text": [
            "a = 1, b = 1\n",
            "a = 1, b = 2\n",
            "a = 2, b = 3\n",
            "a = 3, b = 5\n",
            "a = 5, b = 8\n",
            "a = 8, b = 13\n",
            "a = 13, b = 21\n",
            "a = 21, b = 34\n",
            "a = 34, b = 55\n",
            "a = 55, b = 89\n",
            "55\n"
          ]
        }
      ]
    },
    {
      "cell_type": "markdown",
      "source": [
        "## The Recursive Fibonacci Algorithm\n",
        "Calculating Fibonacci numbers involves a recursive property. For example, if you want to calculate the 10th Fibonacci number, you add the ninth and eighth Fibonacci numbers together. To calculate those Fibonacci numbers, you add the eighth and seventh, then the seventh and sixth Fibonacci numbers. A lot of repeat calculations occur: notice that adding the ninth and eighth Fibonacci numbers involves calculating the eighth Fibonacci number again. You continue this recursion until you reach the base case of the first or second Fibonacci number, which is always 1."
      ],
      "metadata": {
        "id": "8lUk0buPODVm"
      }
    },
    {
      "cell_type": "code",
      "source": [
        "def fibonacci(nthNumber):\n",
        "    print('fibonacci(%s) called.' % (nthNumber))\n",
        "    if nthNumber == 1 or nthNumber == 2: #❶\n",
        "        # BASE CASE\n",
        "        print('Call to fibonacci(%s) returning 1.' % (nthNumber))\n",
        "        return 1\n",
        "    else:\n",
        "        # RECURSIVE CASE\n",
        "        print('Calling fibonacci(%s) and fibonacci(%s).' % (nthNumber - 1, nthNumber - 2))\n",
        "        result = fibonacci(nthNumber - 1) + fibonacci(nthNumber - 2)\n",
        "        print('Call to fibonacci(%s) returning %s.' % (nthNumber, result))\n",
        "        return result\n",
        "\n",
        "print(fibonacci(10))"
      ],
      "metadata": {
        "id": "pR1w5nlFOACq",
        "outputId": "2209a1f3-add3-4c45-9e77-b7142e48ee40",
        "colab": {
          "base_uri": "https://localhost:8080/"
        }
      },
      "execution_count": 4,
      "outputs": [
        {
          "output_type": "stream",
          "name": "stdout",
          "text": [
            "fibonacci(10) called.\n",
            "Calling fibonacci(9) and fibonacci(8).\n",
            "fibonacci(9) called.\n",
            "Calling fibonacci(8) and fibonacci(7).\n",
            "fibonacci(8) called.\n",
            "Calling fibonacci(7) and fibonacci(6).\n",
            "fibonacci(7) called.\n",
            "Calling fibonacci(6) and fibonacci(5).\n",
            "fibonacci(6) called.\n",
            "Calling fibonacci(5) and fibonacci(4).\n",
            "fibonacci(5) called.\n",
            "Calling fibonacci(4) and fibonacci(3).\n",
            "fibonacci(4) called.\n",
            "Calling fibonacci(3) and fibonacci(2).\n",
            "fibonacci(3) called.\n",
            "Calling fibonacci(2) and fibonacci(1).\n",
            "fibonacci(2) called.\n",
            "Call to fibonacci(2) returning 1.\n",
            "fibonacci(1) called.\n",
            "Call to fibonacci(1) returning 1.\n",
            "Call to fibonacci(3) returning 2.\n",
            "fibonacci(2) called.\n",
            "Call to fibonacci(2) returning 1.\n",
            "Call to fibonacci(4) returning 3.\n",
            "fibonacci(3) called.\n",
            "Calling fibonacci(2) and fibonacci(1).\n",
            "fibonacci(2) called.\n",
            "Call to fibonacci(2) returning 1.\n",
            "fibonacci(1) called.\n",
            "Call to fibonacci(1) returning 1.\n",
            "Call to fibonacci(3) returning 2.\n",
            "Call to fibonacci(5) returning 5.\n",
            "fibonacci(4) called.\n",
            "Calling fibonacci(3) and fibonacci(2).\n",
            "fibonacci(3) called.\n",
            "Calling fibonacci(2) and fibonacci(1).\n",
            "fibonacci(2) called.\n",
            "Call to fibonacci(2) returning 1.\n",
            "fibonacci(1) called.\n",
            "Call to fibonacci(1) returning 1.\n",
            "Call to fibonacci(3) returning 2.\n",
            "fibonacci(2) called.\n",
            "Call to fibonacci(2) returning 1.\n",
            "Call to fibonacci(4) returning 3.\n",
            "Call to fibonacci(6) returning 8.\n",
            "fibonacci(5) called.\n",
            "Calling fibonacci(4) and fibonacci(3).\n",
            "fibonacci(4) called.\n",
            "Calling fibonacci(3) and fibonacci(2).\n",
            "fibonacci(3) called.\n",
            "Calling fibonacci(2) and fibonacci(1).\n",
            "fibonacci(2) called.\n",
            "Call to fibonacci(2) returning 1.\n",
            "fibonacci(1) called.\n",
            "Call to fibonacci(1) returning 1.\n",
            "Call to fibonacci(3) returning 2.\n",
            "fibonacci(2) called.\n",
            "Call to fibonacci(2) returning 1.\n",
            "Call to fibonacci(4) returning 3.\n",
            "fibonacci(3) called.\n",
            "Calling fibonacci(2) and fibonacci(1).\n",
            "fibonacci(2) called.\n",
            "Call to fibonacci(2) returning 1.\n",
            "fibonacci(1) called.\n",
            "Call to fibonacci(1) returning 1.\n",
            "Call to fibonacci(3) returning 2.\n",
            "Call to fibonacci(5) returning 5.\n",
            "Call to fibonacci(7) returning 13.\n",
            "fibonacci(6) called.\n",
            "Calling fibonacci(5) and fibonacci(4).\n",
            "fibonacci(5) called.\n",
            "Calling fibonacci(4) and fibonacci(3).\n",
            "fibonacci(4) called.\n",
            "Calling fibonacci(3) and fibonacci(2).\n",
            "fibonacci(3) called.\n",
            "Calling fibonacci(2) and fibonacci(1).\n",
            "fibonacci(2) called.\n",
            "Call to fibonacci(2) returning 1.\n",
            "fibonacci(1) called.\n",
            "Call to fibonacci(1) returning 1.\n",
            "Call to fibonacci(3) returning 2.\n",
            "fibonacci(2) called.\n",
            "Call to fibonacci(2) returning 1.\n",
            "Call to fibonacci(4) returning 3.\n",
            "fibonacci(3) called.\n",
            "Calling fibonacci(2) and fibonacci(1).\n",
            "fibonacci(2) called.\n",
            "Call to fibonacci(2) returning 1.\n",
            "fibonacci(1) called.\n",
            "Call to fibonacci(1) returning 1.\n",
            "Call to fibonacci(3) returning 2.\n",
            "Call to fibonacci(5) returning 5.\n",
            "fibonacci(4) called.\n",
            "Calling fibonacci(3) and fibonacci(2).\n",
            "fibonacci(3) called.\n",
            "Calling fibonacci(2) and fibonacci(1).\n",
            "fibonacci(2) called.\n",
            "Call to fibonacci(2) returning 1.\n",
            "fibonacci(1) called.\n",
            "Call to fibonacci(1) returning 1.\n",
            "Call to fibonacci(3) returning 2.\n",
            "fibonacci(2) called.\n",
            "Call to fibonacci(2) returning 1.\n",
            "Call to fibonacci(4) returning 3.\n",
            "Call to fibonacci(6) returning 8.\n",
            "Call to fibonacci(8) returning 21.\n",
            "fibonacci(7) called.\n",
            "Calling fibonacci(6) and fibonacci(5).\n",
            "fibonacci(6) called.\n",
            "Calling fibonacci(5) and fibonacci(4).\n",
            "fibonacci(5) called.\n",
            "Calling fibonacci(4) and fibonacci(3).\n",
            "fibonacci(4) called.\n",
            "Calling fibonacci(3) and fibonacci(2).\n",
            "fibonacci(3) called.\n",
            "Calling fibonacci(2) and fibonacci(1).\n",
            "fibonacci(2) called.\n",
            "Call to fibonacci(2) returning 1.\n",
            "fibonacci(1) called.\n",
            "Call to fibonacci(1) returning 1.\n",
            "Call to fibonacci(3) returning 2.\n",
            "fibonacci(2) called.\n",
            "Call to fibonacci(2) returning 1.\n",
            "Call to fibonacci(4) returning 3.\n",
            "fibonacci(3) called.\n",
            "Calling fibonacci(2) and fibonacci(1).\n",
            "fibonacci(2) called.\n",
            "Call to fibonacci(2) returning 1.\n",
            "fibonacci(1) called.\n",
            "Call to fibonacci(1) returning 1.\n",
            "Call to fibonacci(3) returning 2.\n",
            "Call to fibonacci(5) returning 5.\n",
            "fibonacci(4) called.\n",
            "Calling fibonacci(3) and fibonacci(2).\n",
            "fibonacci(3) called.\n",
            "Calling fibonacci(2) and fibonacci(1).\n",
            "fibonacci(2) called.\n",
            "Call to fibonacci(2) returning 1.\n",
            "fibonacci(1) called.\n",
            "Call to fibonacci(1) returning 1.\n",
            "Call to fibonacci(3) returning 2.\n",
            "fibonacci(2) called.\n",
            "Call to fibonacci(2) returning 1.\n",
            "Call to fibonacci(4) returning 3.\n",
            "Call to fibonacci(6) returning 8.\n",
            "fibonacci(5) called.\n",
            "Calling fibonacci(4) and fibonacci(3).\n",
            "fibonacci(4) called.\n",
            "Calling fibonacci(3) and fibonacci(2).\n",
            "fibonacci(3) called.\n",
            "Calling fibonacci(2) and fibonacci(1).\n",
            "fibonacci(2) called.\n",
            "Call to fibonacci(2) returning 1.\n",
            "fibonacci(1) called.\n",
            "Call to fibonacci(1) returning 1.\n",
            "Call to fibonacci(3) returning 2.\n",
            "fibonacci(2) called.\n",
            "Call to fibonacci(2) returning 1.\n",
            "Call to fibonacci(4) returning 3.\n",
            "fibonacci(3) called.\n",
            "Calling fibonacci(2) and fibonacci(1).\n",
            "fibonacci(2) called.\n",
            "Call to fibonacci(2) returning 1.\n",
            "fibonacci(1) called.\n",
            "Call to fibonacci(1) returning 1.\n",
            "Call to fibonacci(3) returning 2.\n",
            "Call to fibonacci(5) returning 5.\n",
            "Call to fibonacci(7) returning 13.\n",
            "Call to fibonacci(9) returning 34.\n",
            "fibonacci(8) called.\n",
            "Calling fibonacci(7) and fibonacci(6).\n",
            "fibonacci(7) called.\n",
            "Calling fibonacci(6) and fibonacci(5).\n",
            "fibonacci(6) called.\n",
            "Calling fibonacci(5) and fibonacci(4).\n",
            "fibonacci(5) called.\n",
            "Calling fibonacci(4) and fibonacci(3).\n",
            "fibonacci(4) called.\n",
            "Calling fibonacci(3) and fibonacci(2).\n",
            "fibonacci(3) called.\n",
            "Calling fibonacci(2) and fibonacci(1).\n",
            "fibonacci(2) called.\n",
            "Call to fibonacci(2) returning 1.\n",
            "fibonacci(1) called.\n",
            "Call to fibonacci(1) returning 1.\n",
            "Call to fibonacci(3) returning 2.\n",
            "fibonacci(2) called.\n",
            "Call to fibonacci(2) returning 1.\n",
            "Call to fibonacci(4) returning 3.\n",
            "fibonacci(3) called.\n",
            "Calling fibonacci(2) and fibonacci(1).\n",
            "fibonacci(2) called.\n",
            "Call to fibonacci(2) returning 1.\n",
            "fibonacci(1) called.\n",
            "Call to fibonacci(1) returning 1.\n",
            "Call to fibonacci(3) returning 2.\n",
            "Call to fibonacci(5) returning 5.\n",
            "fibonacci(4) called.\n",
            "Calling fibonacci(3) and fibonacci(2).\n",
            "fibonacci(3) called.\n",
            "Calling fibonacci(2) and fibonacci(1).\n",
            "fibonacci(2) called.\n",
            "Call to fibonacci(2) returning 1.\n",
            "fibonacci(1) called.\n",
            "Call to fibonacci(1) returning 1.\n",
            "Call to fibonacci(3) returning 2.\n",
            "fibonacci(2) called.\n",
            "Call to fibonacci(2) returning 1.\n",
            "Call to fibonacci(4) returning 3.\n",
            "Call to fibonacci(6) returning 8.\n",
            "fibonacci(5) called.\n",
            "Calling fibonacci(4) and fibonacci(3).\n",
            "fibonacci(4) called.\n",
            "Calling fibonacci(3) and fibonacci(2).\n",
            "fibonacci(3) called.\n",
            "Calling fibonacci(2) and fibonacci(1).\n",
            "fibonacci(2) called.\n",
            "Call to fibonacci(2) returning 1.\n",
            "fibonacci(1) called.\n",
            "Call to fibonacci(1) returning 1.\n",
            "Call to fibonacci(3) returning 2.\n",
            "fibonacci(2) called.\n",
            "Call to fibonacci(2) returning 1.\n",
            "Call to fibonacci(4) returning 3.\n",
            "fibonacci(3) called.\n",
            "Calling fibonacci(2) and fibonacci(1).\n",
            "fibonacci(2) called.\n",
            "Call to fibonacci(2) returning 1.\n",
            "fibonacci(1) called.\n",
            "Call to fibonacci(1) returning 1.\n",
            "Call to fibonacci(3) returning 2.\n",
            "Call to fibonacci(5) returning 5.\n",
            "Call to fibonacci(7) returning 13.\n",
            "fibonacci(6) called.\n",
            "Calling fibonacci(5) and fibonacci(4).\n",
            "fibonacci(5) called.\n",
            "Calling fibonacci(4) and fibonacci(3).\n",
            "fibonacci(4) called.\n",
            "Calling fibonacci(3) and fibonacci(2).\n",
            "fibonacci(3) called.\n",
            "Calling fibonacci(2) and fibonacci(1).\n",
            "fibonacci(2) called.\n",
            "Call to fibonacci(2) returning 1.\n",
            "fibonacci(1) called.\n",
            "Call to fibonacci(1) returning 1.\n",
            "Call to fibonacci(3) returning 2.\n",
            "fibonacci(2) called.\n",
            "Call to fibonacci(2) returning 1.\n",
            "Call to fibonacci(4) returning 3.\n",
            "fibonacci(3) called.\n",
            "Calling fibonacci(2) and fibonacci(1).\n",
            "fibonacci(2) called.\n",
            "Call to fibonacci(2) returning 1.\n",
            "fibonacci(1) called.\n",
            "Call to fibonacci(1) returning 1.\n",
            "Call to fibonacci(3) returning 2.\n",
            "Call to fibonacci(5) returning 5.\n",
            "fibonacci(4) called.\n",
            "Calling fibonacci(3) and fibonacci(2).\n",
            "fibonacci(3) called.\n",
            "Calling fibonacci(2) and fibonacci(1).\n",
            "fibonacci(2) called.\n",
            "Call to fibonacci(2) returning 1.\n",
            "fibonacci(1) called.\n",
            "Call to fibonacci(1) returning 1.\n",
            "Call to fibonacci(3) returning 2.\n",
            "fibonacci(2) called.\n",
            "Call to fibonacci(2) returning 1.\n",
            "Call to fibonacci(4) returning 3.\n",
            "Call to fibonacci(6) returning 8.\n",
            "Call to fibonacci(8) returning 21.\n",
            "Call to fibonacci(10) returning 55.\n",
            "55\n"
          ]
        }
      ]
    },
    {
      "cell_type": "markdown",
      "source": [
        "## Why the Recursive Fibonacci Algorithm Is Terrible\n",
        "Like the recursive factorial algorithm, the recursive Fibonacci algorithm also suffers from a critical weakness: it repeats the same calculations over and over. Figure 2-3 shows how calling fibonacci(6), marked in the tree diagram as fib(6) for brevity, calls fibonacci(5) and fibonacci(4).<br>\n",
        "![](https://inventwithpython.com/recursion/images/000006.webp)"
      ],
      "metadata": {
        "id": "X4zqZv-LOMkF"
      }
    },
    {
      "cell_type": "markdown",
      "source": [
        "## Converting an Iterative Algorithm into a Recursive Algorithm\n",
        "Likewise, converting an iterative algorithm into a recursive algorithm is always possible. An iterative algorithm is simply code that uses a loop. The code that is repeatedly executed (the loop’s body) can be placed in a recursive function’s body. And just as the code in the loop’s body is executed repeatedly, we need to repeatedly call the function to execute its code. We can do this by calling the function from the function itself, creating a recursive function."
      ],
      "metadata": {
        "id": "qyprv83EOaJm"
      }
    },
    {
      "cell_type": "code",
      "source": [
        "print('Code in a loop:')\n",
        "i = 0\n",
        "while i < 5:\n",
        "    print(i, 'Hello, world!')\n",
        "    i = i + 1\n",
        "\n",
        "print('Code in a function:')\n",
        "def hello(i=0):\n",
        "    print(i, 'Hello, world!')\n",
        "    i = i + 1\n",
        "    if i < 5:\n",
        "        hello(i) # RECURSIVE CASE\n",
        "    else:\n",
        "        return # BASE CASE\n",
        "hello()"
      ],
      "metadata": {
        "id": "0mqFgWAaOHhN",
        "outputId": "090d5ff6-8559-4dfd-817d-f1b61eef25d2",
        "colab": {
          "base_uri": "https://localhost:8080/"
        }
      },
      "execution_count": 5,
      "outputs": [
        {
          "output_type": "stream",
          "name": "stdout",
          "text": [
            "Code in a loop:\n",
            "0 Hello, world!\n",
            "1 Hello, world!\n",
            "2 Hello, world!\n",
            "3 Hello, world!\n",
            "4 Hello, world!\n",
            "Code in a function:\n",
            "0 Hello, world!\n",
            "1 Hello, world!\n",
            "2 Hello, world!\n",
            "3 Hello, world!\n",
            "4 Hello, world!\n"
          ]
        }
      ]
    },
    {
      "cell_type": "markdown",
      "source": [
        "## Case Study: Calculating Exponents\n",
        "Although recursion doesn’t necessarily produce better code, taking a recursive approach can give you new insights into your programming problem. As a case study, let’s examine how to calculate exponents.\n",
        "\n",
        "Exponents are calculated by multiplying a number by itself. For example, the exponent “three raised to the sixth power,” or 36, is equal to multiplying 3 by itself six times: 3 × 3 × 3 × 3 × 3 × 3 = 729. This is such a common operation that Python has the ** operator and JavaScript has the built-in Math.pow() function to perform exponentiation. We can calculate 36 with the Python code 3 ** 6 and with the JavaScript code Math.pow(3, 6).\n",
        "\n",
        "But let’s write our own exponent-calculating code. The solution is straightforward: create a loop that repeatedly multiplies a number by itself and returns the final product. Here is an iterative exponentByIteration.py Python program:"
      ],
      "metadata": {
        "id": "RiWmCbTkOiPA"
      }
    },
    {
      "cell_type": "code",
      "source": [
        "def exponentByIteration(a, n):\n",
        "    result = 1\n",
        "    for i in range(n):\n",
        "        result *= a\n",
        "    return result\n",
        "\n",
        "print(exponentByIteration(3, 6))\n",
        "print(exponentByIteration(10, 3))\n",
        "print(exponentByIteration(17, 10))"
      ],
      "metadata": {
        "id": "95DTGp9UOd65",
        "outputId": "2f4a32dd-a78c-4167-e273-c3cc2f2cbb04",
        "colab": {
          "base_uri": "https://localhost:8080/"
        }
      },
      "execution_count": 6,
      "outputs": [
        {
          "output_type": "stream",
          "name": "stdout",
          "text": [
            "729\n",
            "1000\n",
            "2015993900449\n"
          ]
        }
      ]
    },
    {
      "cell_type": "markdown",
      "source": [
        "## Creating a Recursive Exponents Function\n",
        "Let’s think of what a recursive solution for the exponentiation of, say, 36 would be. Because of the associative property of multiplication, 3 × 3 × 3 × 3 × 3 × 3 is the same as (3 × 3 × 3) × (3 × 3 × 3), which is the same as (3 × 3 × 3)2. And since (3 × 3 × 3) is the same as 33, we can determine that 36 is the same as (33)2. This is an example of what mathematics calls the power rule: (am)n = amn. Mathematics also gives us the product rule: an × am = an + m, including an × a = an + 1.\n",
        "\n",
        "We can use these mathematical rules to make an exponentByRecursion() function. If exponentByRecursion(3, 6) is called, it’s the same as exponentByRecursion(3, 3) * exponentByRecursion(3, 3). Of course, we don’t actually have to make both exponentByRecursion(3, 3) calls: we could just save the return value to a variable and multiply it by itself.\n",
        "\n",
        "That works for even-numbered exponents, but what about for odd-numbered exponents? If we had to calculate 37, or 3 × 3 × 3 × 3 × 3 × 3 × 3, this is the same as (3 × 3 × 3 × 3 × 3 × 3) × 3, or (36) × 3. Then we can make the same recursive call to calculate 36."
      ],
      "metadata": {
        "id": "IrTjLKtBOndH"
      }
    },
    {
      "cell_type": "code",
      "source": [
        "def exponentByRecursion(a, n):\n",
        "    if n == 1:\n",
        "        # BASE CASE\n",
        "        return a\n",
        "    elif n % 2 == 0:\n",
        "        # RECURSIVE CASE (When n is even.)\n",
        "        result = exponentByRecursion(a, n // 2)\n",
        "        return result * result\n",
        "    elif n % 2 == 1:\n",
        "        # RECURSIVE CASE (When n is odd.)\n",
        "        result = exponentByRecursion(a, n // 2)\n",
        "        return result * result * a\n",
        "\n",
        "print(exponentByRecursion(3, 6))\n",
        "print(exponentByRecursion(10, 3))\n",
        "print(exponentByRecursion(17, 10))"
      ],
      "metadata": {
        "id": "rsxDX2xSOlDl",
        "outputId": "b42cee6d-db0f-4971-f669-cbfefb4eb211",
        "colab": {
          "base_uri": "https://localhost:8080/"
        }
      },
      "execution_count": 7,
      "outputs": [
        {
          "output_type": "stream",
          "name": "stdout",
          "text": [
            "729\n",
            "1000\n",
            "2015993900449\n"
          ]
        }
      ]
    },
    {
      "cell_type": "markdown",
      "source": [
        "## Creating an Iterative Exponents Function Based on Recursive Insights\n",
        "Our original iterative exponents function took a straightforward approach: loop the same number of times as the exponent power. However, this doesn’t scale well for larger powers. Our recursive implementation forced us to think about how to break this problem into smaller subproblems. This approach turns out to be much more efficient.\n",
        "\n",
        "Because every recursive algorithm has an equivalent iterative algorithm, we could make a new iterative exponents function based on the power rule that the recursive algorithm uses. The following exponentWithPowerRule.py program has such a function:"
      ],
      "metadata": {
        "id": "nHrpxn3OOzow"
      }
    },
    {
      "cell_type": "code",
      "source": [
        "def exponentWithPowerRule(a, n):\n",
        "    # Step 1: Determine the operations to be performed.\n",
        "    opStack = []\n",
        "    while n > 1:\n",
        "        if n % 2 == 0:\n",
        "            # n is even.\n",
        "            opStack.append('square')\n",
        "            n = n // 2\n",
        "        elif n % 2 == 1:\n",
        "            # n is odd.\n",
        "            n -= 1\n",
        "            opStack.append('multiply')\n",
        "\n",
        "    # Step 2: Perform the operations in reverse order.\n",
        "    result = a # Start result at `a`.\n",
        "    while opStack:\n",
        "        op = opStack.pop()\n",
        "\n",
        "        if op == 'multiply':\n",
        "            result *= a\n",
        "        elif op == 'square':\n",
        "            result *= result\n",
        "\n",
        "    return result\n",
        "\n",
        "print(exponentWithPowerRule(3, 6))\n",
        "print(exponentWithPowerRule(10, 3))\n",
        "print(exponentWithPowerRule(17, 10))"
      ],
      "metadata": {
        "id": "9b3BI4W0O2M5",
        "outputId": "659a6c87-205c-4d53-ad24-94954b87a4d3",
        "colab": {
          "base_uri": "https://localhost:8080/"
        }
      },
      "execution_count": 8,
      "outputs": [
        {
          "output_type": "stream",
          "name": "stdout",
          "text": [
            "729\n",
            "1000\n",
            "2015993900449\n"
          ]
        }
      ]
    },
    {
      "cell_type": "markdown",
      "source": [
        "Our algorithm keeps reducing n by dividing it in half (if it’s even) or subtracting 1 (if it’s odd) until it is 1. This gives us the squaring or multiply-by-a operations we have to perform. After finishing this step, we perform these operations in reverse order. A generic stack data structure (separate from the call stack) is useful for reversing the order of these operations since it’s a first-in, last-out data structure. The first step pushes squaring or multiply-by-a operations to a stack in the opStack variable. In the second step, it performs these operations as it pops them off the stack.\n",
        "\n",
        "For example, calling exponentWithPowerRule(6, 5) to calculate 65 sets a as 6 and n as 5. The function notes that n is odd. This means we should subtract 1 from n to get 4 and push a multiply-by-a operation to opStack. Now that n is 4 (even), we divide it by 2 to get 2 and push a squaring operation to opStack. Since n is now 2 and even again, we divide it by 2 to get 1 and push another squaring operation to opStack. Now that n is 1, we are finished with this first step.\n",
        "\n",
        "To perform the second step, we start the result as a (which is 6). We pop the opStack stack to get a squaring operation, telling the program to set result to result * result (that is, result2) or 36. We pop the next operation off opStack, and it is another squaring operation, so the program changes the 36 in result to 36 * 36, or 1296. We pop the last operation off opStack, and it is a multiply-by-a operation, so we multiply the 1296 in result by a (which is 6) to get 7776. There are no more operations on opStack, so the function is now finished. When we double-check our math, we find that 65 is indeed 7,776.\n",
        "\n",
        "The stack in opStack looks like Figure 2-4 as the function call exponentWithPowerRule(6, 5) executes.<br>\n",
        "![](https://inventwithpython.com/recursion/images/000083.webp)"
      ],
      "metadata": {
        "id": "hWUGCYRrO5zk"
      }
    },
    {
      "cell_type": "markdown",
      "source": [
        "## When Do You Need to Use Recursion?\n",
        "You never need to use recursion. No programming problem requires recursion. This chapter has shown that recursion has no magical power to do things that iterative code in a loop with a stack data structure cannot do. In fact, a recursive function might be an overcomplicated solution for what you’re trying to achieve.\n",
        "\n",
        "However, as the exponent functions we created in the previous section show, recursion can provide new insights into how to think about our programming problem. Three features of a programming problem, when present, make it especially suitable to a recursive approach:\n",
        "\n",
        "It involves a tree-like structure.\n",
        "It involves backtracking.\n",
        "It isn’t so deeply recursive as to potentially cause a stack overflow.\n",
        "A tree has a self-similar structure: the branching points look similar to the root of a smaller subtree. Recursion often deals with self-similarity and problems that can be divided into smaller, similar subproblems. The root of the tree is analogous to the first call to a recursive function, the branching points are analogous to recursive cases, and the leaves are analogous to the base cases where no more recursive calls are made.\n",
        "\n",
        "A maze is also a good example of a problem that has a tree-like structure and requires backtracking. In a maze, the branching points occur wherever you must pick one of many paths to follow. If you reach a dead end, you’ve encountered the base case. You must then backtrack to a previous branching point to select a different path to follow.<br>\n",
        "![](https://inventwithpython.com/recursion/images/000073.webp)"
      ],
      "metadata": {
        "id": "JAFxrCouPFBd"
      }
    },
    {
      "cell_type": "markdown",
      "source": [
        "Searching for a specific filename in a folder is a recursive problem: you search the folder and then recursively search the folder’s subfolders. Folders with no subfolders are the base cases that cause the recursive searching to stop. If your recursive algorithm doesn’t find the filename it’s looking for, it backtracks to a previous parent folder and continues searching from there.\n",
        "\n",
        "The third point is a matter of practicality. If your tree structure has so many levels of branches that a recursive function would cause a stack overflow before it can reach the leaves, then recursion isn’t a suitable solution.\n",
        "\n",
        "On the other hand, recursion is the best approach for creating programming language compilers. Compiler design is its own expansive subject and beyond the scope of this book. But programming languages have a set of grammar rules that can break source code into a tree structure similar to the way grammar rules can break English sentences into a tree diagram. Recursion is an ideal technique to apply to compilers.\n",
        "\n",
        "We’ll identify many recursive algorithms in this book, and they often have the tree-like structure or backtracking features that lend themselves to recursion well."
      ],
      "metadata": {
        "id": "rMToAuWCPRx1"
      }
    },
    {
      "cell_type": "markdown",
      "source": [
        "## Coming Up with Recursive Algorithms\n",
        "Hopefully, this chapter has given you a firm idea of how recursive functions compare to the iterative algorithms you’re likely more familiar with. The rest of this book dives into the details of various recursive algorithms. But how should you go about writing your own recursive functions?\n",
        "\n",
        "The first step is always to identify the recursive case and the base case. You can take a top-down approach by breaking the problem into subproblems that are similar to the original problem but smaller; this is your recursive case. Then consider when the subproblems are small enough to have a trivial answer; this is your base case. Your recursive function may have more than one recursive case or base case, but all recursive functions will always have at least one recursive case and at least one base case.\n",
        "\n",
        "The recursive Fibonacci algorithm is an example. A Fibonacci number is the sum of the previous two Fibonacci numbers. We can break the problem of finding a Fibonacci number into the subproblems of finding two smaller Fibonacci numbers. We know the first two Fibonacci numbers are both 1, so that provides the base case answer once the subproblems are small enough.\n",
        "\n",
        "Sometimes it helps to take a bottom-up approach and consider the base case first, and then see how larger and larger problems are constructed and solved from there. The recursive factorial problem is an example. The factorial of 1! is 1. This forms the base case. The next factorial is 2!, and you create it by multiplying 1! by 2. The factorial after that, 3!, is created by multiplying 2! by 3, and so on. From this general pattern, we can figure out what the recursive case for our algorithm will be."
      ],
      "metadata": {
        "id": "aiX5InykPikR"
      }
    },
    {
      "cell_type": "markdown",
      "source": [
        "## Practice Projects\n",
        "For practice, write a function for each of the following tasks:\n",
        "\n",
        "1. Iteratively calculate the sum of the integer series from 1 to n. This is similar to the factorial() function, except it performs addition instead of multiplication. For example, sumSeries(1) returns 1, sumSeries(2) returns 3 (that is, 1 + 2), sumSeries(3) returns 6 (that is, 1 + 2 + 3), and so on. This function should use a loop instead of recursion. Take a look at the factorialByIteration.py program in this chapter for guidance.\n"
      ],
      "metadata": {
        "id": "vbfCOFF9Pvl2"
      }
    },
    {
      "cell_type": "code",
      "source": [
        "def sumSeries(n):\n",
        "    result = 0\n",
        "    for i in range(n):\n",
        "        result += 1 + i\n",
        "    return result"
      ],
      "metadata": {
        "id": "6jlwRlkgO2qA"
      },
      "execution_count": 24,
      "outputs": []
    },
    {
      "cell_type": "code",
      "source": [
        "sumSeries(10)"
      ],
      "metadata": {
        "id": "mA70_5sEUBc7",
        "outputId": "a8dbb011-e03b-4cb1-fe91-722ca22f1463",
        "colab": {
          "base_uri": "https://localhost:8080/"
        }
      },
      "execution_count": 30,
      "outputs": [
        {
          "output_type": "execute_result",
          "data": {
            "text/plain": [
              "55"
            ]
          },
          "metadata": {},
          "execution_count": 30
        }
      ]
    },
    {
      "cell_type": "markdown",
      "source": [
        "2. Write the recursive form of sumSeries(). This function should use recursive function calls instead of a loop. Look at the factorialByRecursion.py program in this chapter for guidance.\n"
      ],
      "metadata": {
        "id": "pFhGJnt6P_Q5"
      }
    },
    {
      "cell_type": "code",
      "source": [
        "def sumSeriesRec(n):\n",
        "    if n == 1:\n",
        "        #Base case\n",
        "        return 1\n",
        "    elif n > 1:\n",
        "        return n + sumSeriesRec(n - 1)\n"
      ],
      "metadata": {
        "id": "Dmp8L5j7P_rs"
      },
      "execution_count": 28,
      "outputs": []
    },
    {
      "cell_type": "code",
      "source": [
        "sumSeriesRec(10)"
      ],
      "metadata": {
        "id": "g-15nslfabBe",
        "outputId": "128ada82-1aa6-4cba-bc06-329c63d2036a",
        "colab": {
          "base_uri": "https://localhost:8080/"
        }
      },
      "execution_count": 31,
      "outputs": [
        {
          "output_type": "execute_result",
          "data": {
            "text/plain": [
              "55"
            ]
          },
          "metadata": {},
          "execution_count": 31
        }
      ]
    },
    {
      "cell_type": "markdown",
      "source": [
        "3. Iteratively calculate the sum of the first n powers of 2 in a function named sumPowersOf2(). The powers of 2 are 2, 4, 8, 16, 32, and so on. In Python, these are calculated with 2 ** 1, 2 ** 2, 2 ** 3, 2 ** 4, 2 ** 5, and so on, respectively. In JavaScript, these are calculated with Math.pow(2, 1), Math.pow(2, 2), and so on. For example, sumPowersOf2(1) returns 2, sumPowersOf2(2) returns 6 (that is, 2 + 4), sumPowersOf2(3) returns 14 (that is, 2 + 4 + 8), and so on.\n"
      ],
      "metadata": {
        "id": "Q01ybTg9ZuME"
      }
    },
    {
      "cell_type": "code",
      "source": [
        "def sum_powers_of_2(n):\n",
        "    result = 0\n",
        "    for i in range(1, n + 1):\n",
        "        result += 2**i\n",
        "        print(i, result)\n",
        "    return result"
      ],
      "metadata": {
        "id": "t1hy2Z5Va9uO"
      },
      "execution_count": 117,
      "outputs": []
    },
    {
      "cell_type": "code",
      "source": [
        "sum_powers_of_2(2)"
      ],
      "metadata": {
        "id": "vD8aQ7m7bcWq",
        "outputId": "6512f16b-5725-4d99-c2c4-f15bb557f68a",
        "colab": {
          "base_uri": "https://localhost:8080/"
        }
      },
      "execution_count": 125,
      "outputs": [
        {
          "output_type": "stream",
          "name": "stdout",
          "text": [
            "1 2\n",
            "2 6\n"
          ]
        },
        {
          "output_type": "execute_result",
          "data": {
            "text/plain": [
              "6"
            ]
          },
          "metadata": {},
          "execution_count": 125
        }
      ]
    },
    {
      "cell_type": "markdown",
      "source": [
        "4. Write the recursive form of sumPowersOf2(). This function should use recursive function calls instead of a loop."
      ],
      "metadata": {
        "id": "M9ic9GiHa-EI"
      }
    },
    {
      "cell_type": "code",
      "source": [
        "def sum_powers_of_2_rec(n):\n",
        "    if n == 1:\n",
        "        return 2\n",
        "    elif n > 1:\n",
        "        result = sum_powers_of_2(n-1)\n",
        "        return result \n"
      ],
      "metadata": {
        "id": "Lfne40r9gIzo"
      },
      "execution_count": 136,
      "outputs": []
    },
    {
      "cell_type": "code",
      "source": [
        "sum_powers_of_2_rec(2)"
      ],
      "metadata": {
        "id": "vRGZXahQge4_",
        "outputId": "3d32600a-7567-4841-9d06-76fff887fd09",
        "colab": {
          "base_uri": "https://localhost:8080/"
        }
      },
      "execution_count": 137,
      "outputs": [
        {
          "output_type": "stream",
          "name": "stdout",
          "text": [
            "1 2\n"
          ]
        },
        {
          "output_type": "execute_result",
          "data": {
            "text/plain": [
              "2"
            ]
          },
          "metadata": {},
          "execution_count": 137
        }
      ]
    },
    {
      "cell_type": "code",
      "source": [],
      "metadata": {
        "id": "Hvi8fqSGqgWW"
      },
      "execution_count": null,
      "outputs": []
    }
  ]
}