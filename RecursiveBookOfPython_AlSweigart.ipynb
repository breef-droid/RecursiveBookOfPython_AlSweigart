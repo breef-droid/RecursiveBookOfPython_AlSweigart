{
  "nbformat": 4,
  "nbformat_minor": 0,
  "metadata": {
    "colab": {
      "provenance": [],
      "authorship_tag": "ABX9TyNY4ywufleO+/dfOPGVmXWU",
      "include_colab_link": true
    },
    "kernelspec": {
      "name": "python3",
      "display_name": "Python 3"
    },
    "language_info": {
      "name": "python"
    }
  },
  "cells": [
    {
      "cell_type": "markdown",
      "metadata": {
        "id": "view-in-github",
        "colab_type": "text"
      },
      "source": [
        "<a href=\"https://colab.research.google.com/github/breef-droid/RecursiveBookOfPython_AlSweigart/blob/main/RecursiveBookOfPython_AlSweigart.ipynb\" target=\"_parent\"><img src=\"https://colab.research.google.com/assets/colab-badge.svg\" alt=\"Open In Colab\"/></a>"
      ]
    },
    {
      "cell_type": "markdown",
      "source": [
        "# Chapter 1: What is recursion?\n"
      ],
      "metadata": {
        "id": "uzT9kKRkiozb"
      }
    },
    {
      "cell_type": "markdown",
      "source": [
        "## Definition of recursion\n",
        "Recursion has an intimidating reputation. It’s considered hard to understand, but at its core, it depends on only two things: function calls and stack data structures.<br>\n",
        "\n",
        "![](https://inventwithpython.com/recursion/images/000086.webp)<br>\n",
        "A recursive thing is something whose definition includes itself, it has a self-referential definition.<br>\n",
        "In a programming context, a recursive function is a function that calls itself. Before we look at recursive functions, we need to understand how regular functions work."
      ],
      "metadata": {
        "id": "a_ymolbtma67"
      }
    },
    {
      "cell_type": "markdown",
      "source": [
        "## What are functions?\n",
        "Functions are mini-programs inside your program. If we need to run identical instructions at three different places in a program, instead of copying and pasting the source code three times, we can write the code in a function once and call the function three times.<br>\n",
        "The beneficial result being shorter and more readable code. The program is also easier to change.<br>\n",
        "All programming languages implement four main features in their functions:\n",
        "* Functions have code that is run when the function is called\n",
        "* *Arguments* are passed into the function when it is called (IE the input to the function, functions can have zero or more arguments)\n",
        "* Functions return a *return value*, the output of the function\n",
        "* The program remembers which line of code called the function and returns to it when the function finishes its execution.\n"
      ],
      "metadata": {
        "id": "Qm1eOZIims2S"
      }
    },
    {
      "cell_type": "code",
      "source": [
        " def a():\n",
        "     print('a() was called.')\n",
        "     b()\n",
        "     print('a() is returning.')\n",
        "\n",
        "def b():\n",
        "    print('b() was called.')\n",
        "    c()\n",
        "    print('b() is returning.')\n",
        "\n",
        "def c():\n",
        "    print('c() was called.')\n",
        "    print('c() is returning.')\n",
        "\n",
        "a()"
      ],
      "metadata": {
        "id": "CyXAa837iufR",
        "colab": {
          "base_uri": "https://localhost:8080/"
        },
        "outputId": "43803cc9-a19a-4bf5-dfba-9db1f0880802"
      },
      "execution_count": null,
      "outputs": [
        {
          "output_type": "stream",
          "name": "stdout",
          "text": [
            "a() was called.\n",
            "b() was called.\n",
            "c() was called.\n",
            "c() is returning.\n",
            "b() is returning.\n",
            "a() is returning.\n"
          ]
        }
      ]
    },
    {
      "cell_type": "markdown",
      "source": [
        "The output shows the start of functions a(), b() and c(). Each time a function returns, it remembers which line of code originally called it. The program remembers which function was called by using a call stack."
      ],
      "metadata": {
        "id": "vUJnKYdmqvhb"
      }
    },
    {
      "cell_type": "markdown",
      "source": [
        "## What are Stacks?\n",
        "A stack is one of the simplest data structures in computer science. It stores multiple values like a list does - but it limits our use to only adding/removing values from the top of the stack, with the top of the stack being the last item of the list (if creating a stack from a list).<br>\n",
        "Adding values is called pushing whereas removing values is called popping items off the stack.<br>\n",
        "The below if an implementation of the following stack in a deck of cards:<br>\n",
        "![](https://inventwithpython.com/recursion/images/000007.webp)"
      ],
      "metadata": {
        "id": "ZRbJItlKrNEy"
      }
    },
    {
      "cell_type": "code",
      "source": [
        "cardStack = []\n",
        "cardStack.append('5 of diamonds')\n",
        "print(','.join(cardStack))\n",
        "cardStack.append('3 of clubs')\n",
        "print(\",\".join(cardStack))\n",
        "cardStack.append('ace of hearts')\n",
        "print(\",\".join(cardStack))\n",
        "cardStack.pop()\n",
        "print(\",\".join(cardStack))"
      ],
      "metadata": {
        "id": "2b79I2YSpMkb",
        "colab": {
          "base_uri": "https://localhost:8080/"
        },
        "outputId": "26278e0e-ca6c-4d80-bf89-94c275fcd123"
      },
      "execution_count": null,
      "outputs": [
        {
          "output_type": "stream",
          "name": "stdout",
          "text": [
            "5 of diamonds\n",
            "5 of diamonds,3 of clubs\n",
            "5 of diamonds,3 of clubs,ace of hearts\n",
            "5 of diamonds,3 of clubs\n"
          ]
        }
      ]
    },
    {
      "cell_type": "markdown",
      "source": [
        "Stacks are a LIFO (last in first out) data structure. This is similar to our browsers back button. Whereby the browser is always displaying the web page at the top of the history's stack. Clicking a link pushes a new web page onto the stack, clicking the back button pops the current page off the stack and displays the last visited site."
      ],
      "metadata": {
        "id": "eJ5cNBsBtffB"
      }
    },
    {
      "cell_type": "markdown",
      "source": [
        "## What is the call stack?\n",
        "The program's call stack is a stack of frame objects. Frame objects contain information about a single function call (including which line of code called the function) so the execution can move back there when the function returns.<br>\n",
        "Frames are created and pushed onto the stack when a function is called. When the function returns the call stack will have one less frame on the stack. The programming language will handle this automatically, but in general they contain the following:<br>\n",
        "* The return address (or spot in the program where the execution should move to when the function returns.\n",
        "* The arguments passed to the function call"
      ],
      "metadata": {
        "id": "Ziuf0A2vdZYt"
      }
    },
    {
      "cell_type": "code",
      "source": [
        "def a():\n",
        "    frame = \"Ant\"\n",
        "    print(f\"Frame1 called is {frame}\")\n",
        "    b()\n",
        "    print(f\"Frame5 called is {frame}\")\n",
        "\n",
        "def b():\n",
        "    frame = \"Bob\"\n",
        "    print(f\"Frame2 called is {frame}\")\n",
        "    c()\n",
        "    print(f\"Frame4 called is {frame}\")\n",
        "\n",
        "def c():\n",
        "    frame = \"Coyote\"\n",
        "    print(f\"Frame3 called is {frame}\")\n",
        "\n",
        "a()"
      ],
      "metadata": {
        "id": "S_rKPeR5gmEu",
        "outputId": "dce25008-3fca-4654-dba1-05bf0b41911d",
        "colab": {
          "base_uri": "https://localhost:8080/"
        }
      },
      "execution_count": 2,
      "outputs": [
        {
          "output_type": "stream",
          "name": "stdout",
          "text": [
            "Frame1 called is Ant\n",
            "Frame2 called is Bob\n",
            "Frame3 called is Coyote\n",
            "Frame4 called is Bob\n",
            "Frame5 called is Ant\n"
          ]
        }
      ]
    },
    {
      "cell_type": "markdown",
      "source": [
        "The below show the state of the call stack as each function returns. Here the local variables are always separate with distinct values, even if they have the same local variable name as in other functions (with spam replaced with 'frame' as per the code above).<br>\n",
        "![](https://inventwithpython.com/recursion/images/000093.webp)"
      ],
      "metadata": {
        "id": "erpNRpMxhm7Y"
      }
    },
    {
      "cell_type": "markdown",
      "source": [
        "The separate local variable can have the same variable name and different values as they are kept in separate frame objects. When a local variable is used in the source code, the variable with that name in the topmost frame is used to return the individual values.<br>\n",
        "Every running program has a call stack and multithreaded programs have one call stack for each thread. The call stack is an object created and handled automatically in the background.<br>\n",
        "The fact that the call stack isn't visible in the source code is the reason recursion is confusing as it relies on something the programmer can't see."
      ],
      "metadata": {
        "id": "XI3CS7wHiFgI"
      }
    },
    {
      "cell_type": "markdown",
      "source": [
        "## What are recursive functions and stack overflows?\n",
        "A recursive function is a function that calls itself."
      ],
      "metadata": {
        "id": "GCo2Lu2Ai4cZ"
      }
    },
    {
      "cell_type": "code",
      "source": [
        "def shortest_recursive():\n",
        "    shortest_recursive()\n",
        "\n",
        "shortest_recursive()"
      ],
      "metadata": {
        "id": "3vVP2NlwhKqO",
        "outputId": "4fa0fbb4-4453-467a-9dac-e18de326721d",
        "colab": {
          "base_uri": "https://localhost:8080/",
          "height": 363
        }
      },
      "execution_count": 3,
      "outputs": [
        {
          "output_type": "error",
          "ename": "RecursionError",
          "evalue": "ignored",
          "traceback": [
            "\u001b[0;31m---------------------------------------------------------------------------\u001b[0m",
            "\u001b[0;31mRecursionError\u001b[0m                            Traceback (most recent call last)",
            "\u001b[0;32m<ipython-input-3-b37d7ea3524d>\u001b[0m in \u001b[0;36m<module>\u001b[0;34m\u001b[0m\n\u001b[1;32m      2\u001b[0m     \u001b[0mshortest_recursive\u001b[0m\u001b[0;34m(\u001b[0m\u001b[0;34m)\u001b[0m\u001b[0;34m\u001b[0m\u001b[0;34m\u001b[0m\u001b[0m\n\u001b[1;32m      3\u001b[0m \u001b[0;34m\u001b[0m\u001b[0m\n\u001b[0;32m----> 4\u001b[0;31m \u001b[0mshortest_recursive\u001b[0m\u001b[0;34m(\u001b[0m\u001b[0;34m)\u001b[0m\u001b[0;34m\u001b[0m\u001b[0;34m\u001b[0m\u001b[0m\n\u001b[0m",
            "\u001b[0;32m<ipython-input-3-b37d7ea3524d>\u001b[0m in \u001b[0;36mshortest_recursive\u001b[0;34m()\u001b[0m\n\u001b[1;32m      1\u001b[0m \u001b[0;32mdef\u001b[0m \u001b[0mshortest_recursive\u001b[0m\u001b[0;34m(\u001b[0m\u001b[0;34m)\u001b[0m\u001b[0;34m:\u001b[0m\u001b[0;34m\u001b[0m\u001b[0;34m\u001b[0m\u001b[0m\n\u001b[0;32m----> 2\u001b[0;31m     \u001b[0mshortest_recursive\u001b[0m\u001b[0;34m(\u001b[0m\u001b[0;34m)\u001b[0m\u001b[0;34m\u001b[0m\u001b[0;34m\u001b[0m\u001b[0m\n\u001b[0m\u001b[1;32m      3\u001b[0m \u001b[0;34m\u001b[0m\u001b[0m\n\u001b[1;32m      4\u001b[0m \u001b[0mshortest_recursive\u001b[0m\u001b[0;34m(\u001b[0m\u001b[0;34m)\u001b[0m\u001b[0;34m\u001b[0m\u001b[0;34m\u001b[0m\u001b[0m\n",
            "... last 1 frames repeated, from the frame below ...\n",
            "\u001b[0;32m<ipython-input-3-b37d7ea3524d>\u001b[0m in \u001b[0;36mshortest_recursive\u001b[0;34m()\u001b[0m\n\u001b[1;32m      1\u001b[0m \u001b[0;32mdef\u001b[0m \u001b[0mshortest_recursive\u001b[0m\u001b[0;34m(\u001b[0m\u001b[0;34m)\u001b[0m\u001b[0;34m:\u001b[0m\u001b[0;34m\u001b[0m\u001b[0;34m\u001b[0m\u001b[0m\n\u001b[0;32m----> 2\u001b[0;31m     \u001b[0mshortest_recursive\u001b[0m\u001b[0;34m(\u001b[0m\u001b[0;34m)\u001b[0m\u001b[0;34m\u001b[0m\u001b[0;34m\u001b[0m\u001b[0m\n\u001b[0m\u001b[1;32m      3\u001b[0m \u001b[0;34m\u001b[0m\u001b[0m\n\u001b[1;32m      4\u001b[0m \u001b[0mshortest_recursive\u001b[0m\u001b[0;34m(\u001b[0m\u001b[0;34m)\u001b[0m\u001b[0;34m\u001b[0m\u001b[0;34m\u001b[0m\u001b[0m\n",
            "\u001b[0;31mRecursionError\u001b[0m: maximum recursion depth exceeded"
          ]
        }
      ]
    },
    {
      "cell_type": "markdown",
      "source": [
        "Since the call stack created in the shortest_recursive() function is infinite and uses the computer's finite memory, the program crashes and displays the `RecursionError: maximum recursion depth exceeded` error.<br>\n",
        "This type of error is called a stack overflow. The constant function calls with no returns grows the call stack until all the computer's memory allocated for the call stack is used up. To prevent this from actually occuring the Python interpreter crashes the program after a certain limit of function calls that don't return a value is reached.<br>\n",
        "This limit is called the maximum recursion depth or maximum call stack size. For python specifically this is set to 1,000 function calls (for JavaScript it depends on the browser but is generally 10,000.<br>\n",
        "Think of a stack overflow as happening when the call stack gets \"too high\" (IE it consumes too much memory).<br>\n",
        "![](https://inventwithpython.com/recursion/images/000048.webp)<br>\n",
        "Stack overflows can be prevented by having something called a base case..."
      ],
      "metadata": {
        "id": "vp8zwAAZjPq4"
      }
    },
    {
      "cell_type": "markdown",
      "source": [
        "## Base Cases and Recursive Cases:\n",
        "The recursive fuction shortest_recursive() calls itself but never returns. To avoid a crash there needs to be a set of circustances where the function stops calling itself and instead just returns. This is known as the base case. By contrast, a case where the function recursively calls itself is called a recursive case.<br>\n",
        "All recursive functions require at least one base case and at least one recursive case. Without a base case, the function will never stop making recursive calls and will cause a stack overflow. When we start writing recursive functions, a good first step is to figure out what the base case and recursive case should be."
      ],
      "metadata": {
        "id": "9L-km9kIkzAV"
      }
    },
    {
      "cell_type": "code",
      "source": [
        "def shortestWithBaseCase(makeRecursiveCall):\n",
        "    print(\"shortestWIthBaseCase(%s) called.\" %makeRecursiveCall)\n",
        "    if not makeRecursiveCall:\n",
        "        # This is the Base Case\n",
        "        print(\"Returning from base case\")\n",
        "        return\n",
        "    else:\n",
        "        # This is the recursive case\n",
        "        shortestWithBaseCase(False)\n",
        "        print(\"Returning from recursive case\")\n",
        "        return\n",
        "\n",
        "print(\"Calling shortestWithBaseCase(False):\")\n",
        "shortestWithBaseCase(False)\n",
        "print()\n",
        "print(\"Calling shortestWithBaseCase(True):\")\n",
        "shortestWithBaseCase(True)"
      ],
      "metadata": {
        "id": "QyUNVFGpjIJR"
      },
      "execution_count": null,
      "outputs": []
    },
    {
      "cell_type": "code",
      "source": [],
      "metadata": {
        "id": "bAmYihkpnXqy"
      },
      "execution_count": null,
      "outputs": []
    }
  ]
}